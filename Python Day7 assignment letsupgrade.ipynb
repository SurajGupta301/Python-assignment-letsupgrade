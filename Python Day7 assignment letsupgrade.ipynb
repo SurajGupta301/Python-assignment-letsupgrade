{
 "cells": [
  {
   "cell_type": "code",
   "execution_count": 5,
   "metadata": {},
   "outputs": [
    {
     "name": "stdout",
     "output_type": "stream",
     "text": [
      "The output: {'FTP': 21, 'SSH': 22, 'telnet': 23, 'http': 80}\n"
     ]
    }
   ],
   "source": [
    "dict1 = {21:\"FTP\",22:\"SSH\",23:\"telnet\",80:\"http\"} \n",
    "dict2 ={value:key for key,value in dict1.items()}\n",
    "print(\"The output:\",dict2)"
   ]
  },
  {
   "cell_type": "code",
   "execution_count": 7,
   "metadata": {},
   "outputs": [
    {
     "name": "stdout",
     "output_type": "stream",
     "text": [
      "The list contains sum of tuple: [3, 7, 11, 9]\n"
     ]
    }
   ],
   "source": [
    "list1=[(1,2),(3,4),(5,6),(4,5)]\n",
    "list2=[]\n",
    "for each in range(0,len(list1)):\n",
    "  a,b=list1[each]\n",
    "  list2.append(a+b)\n",
    "print(\"The list contains sum of tuple:\",list2)"
   ]
  }
 ],
 "metadata": {
  "kernelspec": {
   "display_name": "Python 3",
   "language": "python",
   "name": "python3"
  },
  "language_info": {
   "codemirror_mode": {
    "name": "ipython",
    "version": 3
   },
   "file_extension": ".py",
   "mimetype": "text/x-python",
   "name": "python",
   "nbconvert_exporter": "python",
   "pygments_lexer": "ipython3",
   "version": "3.8.3"
  }
 },
 "nbformat": 4,
 "nbformat_minor": 4
}
