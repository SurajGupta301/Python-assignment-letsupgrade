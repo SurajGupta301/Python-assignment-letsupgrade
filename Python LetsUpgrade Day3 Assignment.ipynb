{
 "cells": [
  {
   "cell_type": "code",
   "execution_count": 9,
   "metadata": {},
   "outputs": [
    {
     "name": "stdout",
     "output_type": "stream",
     "text": [
      "Please Enter any Number: 59\n",
      "The Sum of n Numbers from 1 to 59 =  1770\n"
     ]
    }
   ],
   "source": [
    "number = int(input(\"Please Enter any Number: \"))\n",
    "\n",
    "sum1= 0\n",
    "num1 = 1\n",
    "\n",
    "while (num1 <= number):\n",
    "    sum1 = sum1 + num1\n",
    "    num1 = num1 + 1\n",
    "\n",
    "print(\"The Sum of n Numbers from 1 to {0} =  {1}\". format(number, sum1))"
   ]
  },
  {
   "cell_type": "code",
   "execution_count": 11,
   "metadata": {},
   "outputs": [
    {
     "name": "stdout",
     "output_type": "stream",
     "text": [
      "Enter any Number: 78\n",
      "78 is not a Prime Number\n"
     ]
    }
   ],
   "source": [
    "Number = int(input(\"Enter any Number: \"))\n",
    "sum1 = 0\n",
    "\n",
    "for each in range(2, (Number//2 + 1)):\n",
    "    if(Number % each == 0):\n",
    "        sum1 = sum1 + 1\n",
    "        break\n",
    "\n",
    "if (sum1 == 0 and Number != 1):\n",
    "    print(\"%d is a Prime Number\" %Number)\n",
    "else:\n",
    "    print(\"%d is not a Prime Number\" %Number)"
   ]
  }
 ],
 "metadata": {
  "kernelspec": {
   "display_name": "Python 3",
   "language": "python",
   "name": "python3"
  },
  "language_info": {
   "codemirror_mode": {
    "name": "ipython",
    "version": 3
   },
   "file_extension": ".py",
   "mimetype": "text/x-python",
   "name": "python",
   "nbconvert_exporter": "python",
   "pygments_lexer": "ipython3",
   "version": "3.8.3"
  }
 },
 "nbformat": 4,
 "nbformat_minor": 4
}
